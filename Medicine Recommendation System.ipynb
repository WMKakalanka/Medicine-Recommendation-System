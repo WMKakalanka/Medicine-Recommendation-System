{
  "nbformat": 4,
  "nbformat_minor": 0,
  "metadata": {
    "colab": {
      "private_outputs": true,
      "provenance": [],
      "include_colab_link": true
    },
    "kernelspec": {
      "name": "python3",
      "display_name": "Python 3"
    },
    "language_info": {
      "name": "python"
    }
  },
  "cells": [
    {
      "cell_type": "markdown",
      "metadata": {
        "id": "view-in-github",
        "colab_type": "text"
      },
      "source": [
        "<a href=\"https://colab.research.google.com/github/rashini001/ML_cwproject/blob/main/Medicine%20Recommendation%20System.ipynb\" target=\"_parent\"><img src=\"https://colab.research.google.com/assets/colab-badge.svg\" alt=\"Open In Colab\"/></a>"
      ]
    },
    {
      "cell_type": "markdown",
      "source": [
        "# load dataset & tools"
      ],
      "metadata": {
        "id": "o8tqAGb4BSRY"
      }
    },
    {
      "cell_type": "code",
      "source": [
        "import  pandas as pd"
      ],
      "metadata": {
        "id": "hW-WbN02BWSU"
      },
      "execution_count": null,
      "outputs": []
    },
    {
      "cell_type": "code",
      "source": [
        "dataset = pd.read_csv('https://raw.githubusercontent.com/rashini001/ML_cwproject/main/Training.csv')"
      ],
      "metadata": {
        "id": "xF00_eJPBdAy"
      },
      "execution_count": null,
      "outputs": []
    },
    {
      "cell_type": "code",
      "source": [
        "dataset"
      ],
      "metadata": {
        "id": "YKAbCnOUCf-S"
      },
      "execution_count": null,
      "outputs": []
    },
    {
      "cell_type": "code",
      "source": [
        "# manage warning messages during Python script execution and can enhance code readability\n",
        "import warnings\n",
        "warnings.filterwarnings('ignore')"
      ],
      "metadata": {
        "id": "LC53vaCoZpyO"
      },
      "execution_count": null,
      "outputs": []
    },
    {
      "cell_type": "code",
      "source": [
        "# vals = dataset.values.flatten()"
      ],
      "metadata": {
        "id": "xFYZseTiCk85"
      },
      "execution_count": null,
      "outputs": []
    },
    {
      "cell_type": "code",
      "source": [
        "#first few rows of a dataset\n",
        "dataset.head()"
      ],
      "metadata": {
        "id": "Ucrclc-wZxfx"
      },
      "execution_count": null,
      "outputs": []
    },
    {
      "cell_type": "code",
      "source": [
        "#last few rows of a dataset\n",
        "dataset.tail()"
      ],
      "metadata": {
        "id": "SUKGTqwVZ_1E"
      },
      "execution_count": null,
      "outputs": []
    },
    {
      "cell_type": "code",
      "source": [
        "#statistical summary of a dataset\n",
        "dataset.describe()"
      ],
      "metadata": {
        "id": "y6loix7YaKLJ"
      },
      "execution_count": null,
      "outputs": []
    },
    {
      "cell_type": "code",
      "source": [
        "#the total number of elements in a dataset.\n",
        "dataset.size"
      ],
      "metadata": {
        "id": "_DS0Os10aSHh"
      },
      "execution_count": null,
      "outputs": []
    },
    {
      "cell_type": "code",
      "source": [
        "#dimensions (number of rows and columns) of the dataset.\n",
        "dataset.shape"
      ],
      "metadata": {
        "id": "e_KU5-n5CoU8"
      },
      "execution_count": null,
      "outputs": []
    },
    {
      "cell_type": "code",
      "source": [
        "dataset.columns"
      ],
      "metadata": {
        "id": "2czqpdkOaYRa"
      },
      "execution_count": null,
      "outputs": []
    },
    {
      "cell_type": "markdown",
      "source": [
        "Train test Split"
      ],
      "metadata": {
        "id": "-YVoSpHCSted"
      }
    },
    {
      "cell_type": "code",
      "source": [
        "from sklearn.model_selection import train_test_split\n",
        "from sklearn.preprocessing import LabelEncoder"
      ],
      "metadata": {
        "id": "2Hi52UnES_sl"
      },
      "execution_count": null,
      "outputs": []
    },
    {
      "cell_type": "code",
      "source": [
        "#find and retrieve all unique values present in the 'prognosis' column of the dataset\n",
        "dataset['prognosis'].unique()"
      ],
      "metadata": {
        "id": "enKYuf1PbKO6"
      },
      "execution_count": null,
      "outputs": []
    },
    {
      "cell_type": "code",
      "source": [
        "#the number of unique values in the column 'prognosis' within the dataset\n",
        "len(dataset['prognosis'].unique())"
      ],
      "metadata": {
        "id": "ByGdcT9ubOiL"
      },
      "execution_count": null,
      "outputs": []
    },
    {
      "cell_type": "code",
      "source": [
        "#rops the column named 'prognosis' from the dataset\n",
        "X= dataset.drop('prognosis',axis=1)\n",
        "#extracts the 'prognosis' column from the dataset\n",
        "y= dataset['prognosis']\n",
        "\n",
        "# ecoding prognonsis\n",
        "#transform categorical labels into numerical labels\n",
        "le = LabelEncoder()\n",
        "# fits the LabelEncoder instance to the target variable y\n",
        "le.fit(y)\n",
        "#transforms the categorical labels in y into numerical labels stored in Y\n",
        "Y = le.transform(y)\n",
        "\n",
        "X_train, X_test, y_train, y_test = train_test_split(X, Y, test_size=0.3, random_state=20)"
      ],
      "metadata": {
        "id": "dxyCxlN3TRra"
      },
      "execution_count": null,
      "outputs": []
    },
    {
      "cell_type": "code",
      "source": [
        "X"
      ],
      "metadata": {
        "id": "n4cfSVhKa290"
      },
      "execution_count": null,
      "outputs": []
    },
    {
      "cell_type": "code",
      "source": [
        "y"
      ],
      "metadata": {
        "id": "7arFVOEEa5cm"
      },
      "execution_count": null,
      "outputs": []
    },
    {
      "cell_type": "markdown",
      "source": [
        "Training top Models"
      ],
      "metadata": {
        "id": "8xyTf3r51g2h"
      }
    },
    {
      "cell_type": "code",
      "source": [
        "from sklearn.datasets import make_classification\n",
        "from sklearn.model_selection import train_test_split\n",
        "from sklearn.svm import SVC\n",
        "from sklearn.ensemble import RandomForestClassifier, GradientBoostingClassifier\n",
        "from sklearn.neighbors import KNeighborsClassifier\n",
        "from sklearn.naive_bayes import MultinomialNB\n",
        "from sklearn.metrics import accuracy_score, confusion_matrix\n",
        "import numpy as np"
      ],
      "metadata": {
        "id": "Pc26Kavn1ozH"
      },
      "execution_count": null,
      "outputs": []
    },
    {
      "cell_type": "code",
      "source": [
        "# Create a dictionary to store models (SVC)\n",
        "models = {\n",
        "    'SVC': SVC(kernel='linear'),\n",
        "    'RandomForest': RandomForestClassifier(n_estimators=100, random_state=42),\n",
        "    'GradientBoosting': GradientBoostingClassifier(n_estimators=100, random_state=42),\n",
        "    'KNeighbors': KNeighborsClassifier(n_neighbors=5),\n",
        "    'MultinomialNB': MultinomialNB()\n",
        "}"
      ],
      "metadata": {
        "id": "Av67CF4X1s5I"
      },
      "execution_count": null,
      "outputs": []
    },
    {
      "cell_type": "code",
      "source": [
        "# Loop through the models, train, test, and print results\n",
        "for model_name, model in models.items():\n",
        "    # Train the model\n",
        "    model.fit(X_train, y_train)\n",
        "\n",
        "    # Test the model\n",
        "    predictions = model.predict(X_test)\n",
        "\n",
        "    # Calculate accuracy\n",
        "    accuracy = accuracy_score(y_test, predictions)\n",
        "    print(f\"{model_name} Accuracy: {accuracy}\")\n",
        "\n",
        "    # Calculate confusion matrix\n",
        "    cm = confusion_matrix(y_test, predictions)\n",
        "    print(f\"{model_name} Confusion Matrix:\")\n",
        "    print(np.array2string(cm, separator=', '))\n",
        "\n",
        "    print(\"\\n\" + \"=\"*40 + \"\\n\")"
      ],
      "metadata": {
        "id": "SXKEl_bS1x5a"
      },
      "execution_count": null,
      "outputs": []
    },
    {
      "cell_type": "code",
      "source": [
        "# Train and evaluate models\n",
        "accuracy_scores = {}\n",
        "for name, model in models.items():\n",
        "    model.fit(X_train, y_train)\n",
        "    y_pred = model.predict(X_test)\n",
        "    accuracy = accuracy_score(y_test, y_pred)\n",
        "    accuracy_scores[name] = accuracy"
      ],
      "metadata": {
        "id": "Q3u2Jr9NhTP5"
      },
      "execution_count": null,
      "outputs": []
    },
    {
      "cell_type": "markdown",
      "source": [
        "## Single prediction"
      ],
      "metadata": {
        "id": "n5Z4luwGG4IP"
      }
    },
    {
      "cell_type": "code",
      "source": [
        "# selecting svc (best model)\n",
        "svc = SVC(kernel='linear')\n",
        "svc.fit(X_train,y_train)\n",
        "ypred = svc.predict(X_test)\n",
        "accuracy_score(y_test,ypred)"
      ],
      "metadata": {
        "id": "NChWeNj7HC5Z"
      },
      "execution_count": null,
      "outputs": []
    },
    {
      "cell_type": "code",
      "source": [
        "# save svc\n",
        "import pickle\n",
        "pickle.dump(svc,open('svc.pkl','wb'))"
      ],
      "metadata": {
        "id": "9bDrJa_7JMOC"
      },
      "execution_count": null,
      "outputs": []
    },
    {
      "cell_type": "code",
      "source": [
        "# load model\n",
        "svc = pickle.load(open('svc.pkl','rb'))"
      ],
      "metadata": {
        "id": "WwzJnPNBJNfm"
      },
      "execution_count": null,
      "outputs": []
    },
    {
      "cell_type": "code",
      "source": [
        "# test 1:\n",
        "print(\"predicted disease :\",svc.predict(X_test.iloc[0].values.reshape(1,-1)))\n",
        "print(\"Actual Disease :\", y_test[0])"
      ],
      "metadata": {
        "id": "ttILAy6ZJTL7"
      },
      "execution_count": null,
      "outputs": []
    },
    {
      "cell_type": "code",
      "source": [
        "# test 2:\n",
        "print(\"predicted disease :\",svc.predict(X_test.iloc[100].values.reshape(1,-1)))\n",
        "print(\"Actual Disease :\", y_test[100])"
      ],
      "metadata": {
        "id": "9W3zLsvaJXc8"
      },
      "execution_count": null,
      "outputs": []
    },
    {
      "cell_type": "code",
      "source": [
        "# Histogram Visualization\n",
        "plt.figure(figsize=(10, 6))\n",
        "sns.barplot(x=list(accuracy_scores.keys()), y=list(accuracy_scores.values()), palette='viridis')\n",
        "plt.title('Accuracy Scores of Different Models')\n",
        "plt.xlabel('Model')\n",
        "plt.ylabel('Accuracy Score')\n",
        "plt.ylim(0, 1)\n",
        "plt.show()"
      ],
      "metadata": {
        "id": "ugHciomxg5bz"
      },
      "execution_count": null,
      "outputs": []
    },
    {
      "cell_type": "markdown",
      "source": [
        "Load datasets"
      ],
      "metadata": {
        "id": "FFr3FaExJeZf"
      }
    },
    {
      "cell_type": "code",
      "source": [
        "# load databasedataset===================================\n",
        "sym_des = pd.read_csv(\"https://raw.githubusercontent.com/rashini001/ML_cwproject/main/symtoms_df.csv\")\n",
        "precautions = pd.read_csv(\"https://raw.githubusercontent.com/rashini001/ML_cwproject/main/precautions_df.csv\")\n",
        "workout = pd.read_csv(\"https://raw.githubusercontent.com/rashini001/ML_cwproject/main/workout_df.csv\")\n",
        "description = pd.read_csv(\"https://raw.githubusercontent.com/rashini001/ML_cwproject/main/description.csv\")\n",
        "medications = pd.read_csv('https://raw.githubusercontent.com/rashini001/ML_cwproject/main/medications.csv')\n",
        "diets = pd.read_csv(\"https://raw.githubusercontent.com/rashini001/ML_cwproject/main/diets.csv\")\n",
        "sym_des.head()\n",
        "precautions.head()\n",
        "workout.head()\n",
        "description.head()\n",
        "medications.head()\n",
        "diets.head()"
      ],
      "metadata": {
        "id": "tqthcc86Jfid"
      },
      "execution_count": null,
      "outputs": []
    },
    {
      "cell_type": "code",
      "source": [
        "sym_des.head()"
      ],
      "metadata": {
        "id": "Nt08XgAkSWfd"
      },
      "execution_count": null,
      "outputs": []
    },
    {
      "cell_type": "code",
      "source": [
        "precautions.head()"
      ],
      "metadata": {
        "id": "2IIelhxYSnSj"
      },
      "execution_count": null,
      "outputs": []
    },
    {
      "cell_type": "code",
      "source": [
        "workout.head()"
      ],
      "metadata": {
        "id": "iLnNoHtqSrqO"
      },
      "execution_count": null,
      "outputs": []
    },
    {
      "cell_type": "code",
      "source": [
        "description.head()"
      ],
      "metadata": {
        "id": "aOIu4NROSxSU"
      },
      "execution_count": null,
      "outputs": []
    },
    {
      "cell_type": "code",
      "source": [
        "medications.head()"
      ],
      "metadata": {
        "id": "HDGF5FkjS1xj"
      },
      "execution_count": null,
      "outputs": []
    },
    {
      "cell_type": "markdown",
      "source": [
        "Handling Missing Values\n"
      ],
      "metadata": {
        "id": "lWm8RVWAasbR"
      }
    },
    {
      "cell_type": "code",
      "source": [
        "import numpy as np"
      ],
      "metadata": {
        "id": "fqEANml8cgQY"
      },
      "execution_count": null,
      "outputs": []
    },
    {
      "cell_type": "code",
      "source": [
        "# Check for missing values\n",
        "print(\"Missing values in each column:\")\n",
        "print(dataset.isnull().sum())"
      ],
      "metadata": {
        "id": "ML1nX8GCaxEl"
      },
      "execution_count": null,
      "outputs": []
    },
    {
      "cell_type": "code",
      "source": [
        "# Separate numeric and non-numeric columns\n",
        "numeric_cols = dataset.select_dtypes(include=[np.number]).columns\n",
        "non_numeric_cols = dataset.select_dtypes(exclude=[np.number]).columns"
      ],
      "metadata": {
        "id": "u0RvQnBYe8K3"
      },
      "execution_count": null,
      "outputs": []
    },
    {
      "cell_type": "code",
      "source": [
        "# Fill missing values in numeric columns with the mean of the column\n",
        "dataset[numeric_cols] = dataset[numeric_cols].fillna(dataset[numeric_cols].mean())"
      ],
      "metadata": {
        "id": "z-ClxB10fCfT"
      },
      "execution_count": null,
      "outputs": []
    },
    {
      "cell_type": "code",
      "source": [
        "# Fill missing values in non-numeric columns with the mode of the column\n",
        "for col in non_numeric_cols:\n",
        "    dataset[col] = dataset[col].fillna(dataset[col].mode()[0])"
      ],
      "metadata": {
        "id": "rxSnPIq1fGru"
      },
      "execution_count": null,
      "outputs": []
    },
    {
      "cell_type": "code",
      "source": [
        "# Verify that there are no missing values\n",
        "print(\"Missing values after filling:\")\n",
        "print(dataset.isnull().sum())"
      ],
      "metadata": {
        "id": "gleWho22eSFg"
      },
      "execution_count": null,
      "outputs": []
    },
    {
      "cell_type": "code",
      "source": [
        "# Display first few rows to verify the data\n",
        "print(dataset.head())"
      ],
      "metadata": {
        "id": "gakUGVXzfSBm"
      },
      "execution_count": null,
      "outputs": []
    },
    {
      "cell_type": "markdown",
      "source": [
        "Visualize Distribution"
      ],
      "metadata": {
        "id": "MwtTJeTlbki-"
      }
    },
    {
      "cell_type": "code",
      "source": [
        "import matplotlib.pyplot as plt"
      ],
      "metadata": {
        "id": "U-AuJ6eXbl54"
      },
      "execution_count": null,
      "outputs": []
    },
    {
      "cell_type": "code",
      "source": [
        "\n",
        "# Count the occurrences of each class in the 'prognosis' column\n",
        "prognosis_counts = dataset['prognosis'].value_counts()\n",
        "\n",
        "# Set up the matplotlib figure\n",
        "plt.figure(figsize=(12, 8))\n",
        "\n",
        "# Plot the distribution using a bar plot\n",
        "sns.barplot(x=prognosis_counts.index, y=prognosis_counts.values, palette='viridis')\n",
        "\n",
        "# Rotate the x-axis labels for better readability\n",
        "plt.xticks(rotation=90)\n",
        "\n",
        "# Title and labels\n",
        "plt.title('Distribution of Prognosis Classes', size=20)\n",
        "plt.xlabel('Prognosis', size=15)\n",
        "plt.ylabel('Count', size=15)\n",
        "\n",
        "# Show the plot\n",
        "plt.show()"
      ],
      "metadata": {
        "id": "fA006NDKbr7O"
      },
      "execution_count": null,
      "outputs": []
    },
    {
      "cell_type": "markdown",
      "source": [
        "Correlation Matrix"
      ],
      "metadata": {
        "id": "2kIwEhdzb-L3"
      }
    },
    {
      "cell_type": "code",
      "source": [
        "import seaborn as sns\n",
        "import matplotlib.pyplot as plt"
      ],
      "metadata": {
        "id": "e5MCwwKycRij"
      },
      "execution_count": null,
      "outputs": []
    },
    {
      "cell_type": "code",
      "source": [
        "# Remove non-numeric columns\n",
        "numeric_dataset = dataset.drop('prognosis', axis=1)"
      ],
      "metadata": {
        "id": "BZoJ-nWvcKcm"
      },
      "execution_count": null,
      "outputs": []
    },
    {
      "cell_type": "code",
      "source": [
        "# Compute the correlation matrix\n",
        "corr_matrix = numeric_dataset.corr()"
      ],
      "metadata": {
        "id": "y_JXGSJmdsNW"
      },
      "execution_count": null,
      "outputs": []
    },
    {
      "cell_type": "code",
      "source": [
        "# Plot the correlation matrix\n",
        "plt.figure(figsize=(12, 10))\n",
        "sns.heatmap(corr_matrix, annot=True, fmt='.2f', cmap='coolwarm')\n",
        "plt.title('Correlation Matrix')\n",
        "plt.show()"
      ],
      "metadata": {
        "id": "8fVowocUdwIq"
      },
      "execution_count": null,
      "outputs": []
    },
    {
      "cell_type": "markdown",
      "source": [
        "Bar Plots for Mean and Median"
      ],
      "metadata": {
        "id": "ttL-R9NmmJPZ"
      }
    },
    {
      "cell_type": "code",
      "source": [
        "# Calculate the mean and median for each numerical column\n",
        "summary_stats = dataset.describe().loc[['mean', '50%']].T\n",
        "summary_stats.columns = ['Mean', 'Median']\n",
        "\n",
        "# Set up the matplotlib figure\n",
        "plt.figure(figsize=(15, 8))\n",
        "\n",
        "# Plot the mean and median values using bar plots\n",
        "summary_stats.plot(kind='bar', figsize=(15, 8))\n",
        "\n",
        "# Title and labels\n",
        "plt.title('Average Summary Statistics (Mean and Median)', size=20)\n",
        "plt.xlabel('Features', size=15)\n",
        "plt.ylabel('Values', size=15)\n",
        "\n",
        "# Show the plot\n",
        "plt.show()"
      ],
      "metadata": {
        "id": "NlZkOzW9kmKV"
      },
      "execution_count": null,
      "outputs": []
    },
    {
      "cell_type": "code",
      "source": [
        "import math"
      ],
      "metadata": {
        "id": "eWLg_3VllSWi"
      },
      "execution_count": null,
      "outputs": []
    },
    {
      "cell_type": "markdown",
      "source": [
        "Relationship between symptoms and diseases\n"
      ],
      "metadata": {
        "id": "EprGA6Jnm7j6"
      }
    },
    {
      "cell_type": "code",
      "source": [
        "\n",
        "# Selecting symptoms and diseases columns\n",
        "symptoms = dataset.columns[:-1]  # Exclude the last column which is 'prognosis'\n",
        "\n",
        "# Create a cross-tabulation (contingency table) of symptoms vs diseases\n",
        "symptoms_vs_diseases = pd.crosstab(dataset['prognosis'], dataset.iloc[:, :-1].sum(axis=1))\n",
        "\n",
        "# Plotting the heatmap\n",
        "plt.figure(figsize=(15, 10))\n",
        "sns.heatmap(symptoms_vs_diseases, cmap='coolwarm', annot=True, fmt='d')\n",
        "plt.title('Relationship Between Symptoms and Diseases', fontsize=16)\n",
        "plt.xlabel('Symptoms')\n",
        "plt.ylabel('Diseases')\n",
        "plt.show()"
      ],
      "metadata": {
        "id": "vJ6ejj7umyl3"
      },
      "execution_count": null,
      "outputs": []
    },
    {
      "cell_type": "markdown",
      "source": [
        "Customer and helping functions"
      ],
      "metadata": {
        "id": "baPEIGydJllw"
      }
    },
    {
      "cell_type": "code",
      "source": [
        "#==========================custome and helping functions================\n",
        "#Retrieves detailed information about a disease including its description, precautions, medications, diet recommendations, and workout advice\n",
        "def helper(dis):\n",
        "    desc = description[description['Disease'] == dis]['Description']\n",
        "    desc = \" \".join([w for w in desc])\n",
        "\n",
        "    pre = precautions[precautions['Disease'] == dis][['Precaution_1', 'Precaution_2', 'Precaution_3', 'Precaution_4']]\n",
        "    pre = [col for col in pre.values]\n",
        "\n",
        "    med = medications[medications['Disease'] == dis]['Medication']\n",
        "    med = [med for med in med.values]\n",
        "\n",
        "    die = diets[diets['Disease'] == dis]['Diet']\n",
        "    die = [die for die in die.values]\n",
        "\n",
        "    wrkout = workout[workout['disease'] == dis] ['workout']\n",
        "\n",
        "\n",
        "    return desc,pre,med,die,wrkout\n",
        "\n",
        "#Maps symptoms to numeric identifiers\n",
        "symptoms_dict = {'itching': 0, 'skin_rash': 1, 'nodal_skin_eruptions': 2, 'continuous_sneezing': 3, 'shivering': 4, 'chills': 5, 'joint_pain': 6, 'stomach_pain': 7, 'acidity': 8, 'ulcers_on_tongue': 9, 'muscle_wasting': 10, 'vomiting': 11, 'burning_micturition': 12, 'spotting_ urination': 13, 'fatigue': 14, 'weight_gain': 15, 'anxiety': 16, 'cold_hands_and_feets': 17, 'mood_swings': 18, 'weight_loss': 19, 'restlessness': 20, 'lethargy': 21, 'patches_in_throat': 22, 'irregular_sugar_level': 23, 'cough': 24, 'high_fever': 25, 'sunken_eyes': 26, 'breathlessness': 27, 'sweating': 28, 'dehydration': 29, 'indigestion': 30, 'headache': 31, 'yellowish_skin': 32, 'dark_urine': 33, 'nausea': 34, 'loss_of_appetite': 35, 'pain_behind_the_eyes': 36, 'back_pain': 37, 'constipation': 38, 'abdominal_pain': 39, 'diarrhoea': 40, 'mild_fever': 41, 'yellow_urine': 42, 'yellowing_of_eyes': 43, 'acute_liver_failure': 44, 'fluid_overload': 45, 'swelling_of_stomach': 46, 'swelled_lymph_nodes': 47, 'malaise': 48, 'blurred_and_distorted_vision': 49, 'phlegm': 50, 'throat_irritation': 51, 'redness_of_eyes': 52, 'sinus_pressure': 53, 'runny_nose': 54, 'congestion': 55, 'chest_pain': 56, 'weakness_in_limbs': 57, 'fast_heart_rate': 58, 'pain_during_bowel_movements': 59, 'pain_in_anal_region': 60, 'bloody_stool': 61, 'irritation_in_anus': 62, 'neck_pain': 63, 'dizziness': 64, 'cramps': 65, 'bruising': 66, 'obesity': 67, 'swollen_legs': 68, 'swollen_blood_vessels': 69, 'puffy_face_and_eyes': 70, 'enlarged_thyroid': 71, 'brittle_nails': 72, 'swollen_extremeties': 73, 'excessive_hunger': 74, 'extra_marital_contacts': 75, 'drying_and_tingling_lips': 76, 'slurred_speech': 77, 'knee_pain': 78, 'hip_joint_pain': 79, 'muscle_weakness': 80, 'stiff_neck': 81, 'swelling_joints': 82, 'movement_stiffness': 83, 'spinning_movements': 84, 'loss_of_balance': 85, 'unsteadiness': 86, 'weakness_of_one_body_side': 87, 'loss_of_smell': 88, 'bladder_discomfort': 89, 'foul_smell_of urine': 90, 'continuous_feel_of_urine': 91, 'passage_of_gases': 92, 'internal_itching': 93, 'toxic_look_(typhos)': 94, 'depression': 95, 'irritability': 96, 'muscle_pain': 97, 'altered_sensorium': 98, 'red_spots_over_body': 99, 'belly_pain': 100, 'abnormal_menstruation': 101, 'dischromic _patches': 102, 'watering_from_eyes': 103, 'increased_appetite': 104, 'polyuria': 105, 'family_history': 106, 'mucoid_sputum': 107, 'rusty_sputum': 108, 'lack_of_concentration': 109, 'visual_disturbances': 110, 'receiving_blood_transfusion': 111, 'receiving_unsterile_injections': 112, 'coma': 113, 'stomach_bleeding': 114, 'distention_of_abdomen': 115, 'history_of_alcohol_consumption': 116, 'fluid_overload.1': 117, 'blood_in_sputum': 118, 'prominent_veins_on_calf': 119, 'palpitations': 120, 'painful_walking': 121, 'pus_filled_pimples': 122, 'blackheads': 123, 'scurring': 124, 'skin_peeling': 125, 'silver_like_dusting': 126, 'small_dents_in_nails': 127, 'inflammatory_nails': 128, 'blister': 129, 'red_sore_around_nose': 130, 'yellow_crust_ooze': 131}\n",
        "#Maps numeric disease identifiers to their corresponding names\n",
        "diseases_list = {0: 'Vertigo (Paroxysmal Positional Vertigo)', 1: 'AIDS',2: 'Acne',3: 'Alcoholic hepatitis',4: 'Allergy',5: 'Arthritis',6: 'Bronchial Asthma',7: 'Cervical spondylosis',8: 'Chicken pox',9: 'Chronic cholestasis',10: 'Common Cold',11: 'Dengue',12: 'Diabetes',13: 'Dimorphic hemorrhoids (piles)',14: 'Drug Reaction',15: 'Fungal infection',16: 'GERD',17: 'Gastroenteritis',18: 'Heart attack',19: 'Hepatitis B',20: 'Hepatitis C',21: 'Hepatitis D',22: 'Hepatitis E',23: 'Hypertension',24: 'Hyperthyroidism',25: 'Hypoglycemia',26: 'Hypothyroidism',27: 'Impetigo',28: 'Jaundice',29: 'Malaria',30: 'Migraine',31: 'Osteoarthritis',32: 'Paralysis (brain hemorrhage)',33: 'Peptic ulcer disease',34: 'Pneumonia',35: 'Psoriasis',36: 'Tuberculosis',37: 'Typhoid',38: 'Urinary tract infection',39: 'Varicose veins',40: 'Hepatitis A'}\n",
        "\n"
      ],
      "metadata": {
        "id": "gGlmD0NQJmX9"
      },
      "execution_count": null,
      "outputs": []
    },
    {
      "cell_type": "code",
      "source": [
        "# Model Prediction function\n",
        "def get_predicted_value(patient_symptoms):\n",
        "    input_vector = np.zeros(len(symptoms_dict))\n",
        "    for item in patient_symptoms:\n",
        "        input_vector[symptoms_dict[item]] = 1\n",
        "    return diseases_list[svc.predict([input_vector])[0]]"
      ],
      "metadata": {
        "id": "t8OmsQQ0Jr8t"
      },
      "execution_count": null,
      "outputs": []
    },
    {
      "cell_type": "code",
      "source": [
        "# Test 1\n",
        "# Split the user's input into a list of symptoms (assuming they are comma-separated) # itching,skin_rash,nodal_skin_eruptions\n",
        "symptoms = input(\"Enter your symptoms.......\")\n",
        "user_symptoms = [s.strip() for s in symptoms.split(',')]\n",
        "# Remove any extra characters, if any\n",
        "user_symptoms = [symptom.strip(\"[]' \") for symptom in user_symptoms]\n",
        "predicted_disease = get_predicted_value(user_symptoms)\n",
        "\n",
        "desc, pre, med, die, wrkout = helper(predicted_disease)\n",
        "\n",
        "print(\"=================predicted disease============\")\n",
        "print(predicted_disease)\n",
        "print(\"=================description==================\")\n",
        "print(desc)\n",
        "print(\"=================precautions==================\")\n",
        "i = 1\n",
        "for p_i in pre[0]:\n",
        "    print(i, \": \", p_i)\n",
        "    i += 1\n",
        "\n",
        "print(\"=================medications==================\")\n",
        "for m_i in med:\n",
        "    print(i, \": \", m_i)\n",
        "    i += 1\n",
        "\n",
        "print(\"=================workout==================\")\n",
        "for w_i in wrkout:\n",
        "    print(i, \": \", w_i)\n",
        "    i += 1\n",
        "\n",
        "print(\"=================diets==================\")\n",
        "for d_i in die:\n",
        "    print(i, \": \", d_i)\n",
        "    i += 1"
      ],
      "metadata": {
        "id": "U-TyFxoseEZL"
      },
      "execution_count": null,
      "outputs": []
    },
    {
      "cell_type": "code",
      "source": [
        "# Test 1\n",
        "# Split the user's input into a list of symptoms (assuming they are comma-separated) # yellow_crust_ooze,red_sore_around_nose,small_dents_in_nails,inflammatory_nails,blister\n",
        "symptoms = input(\"Enter your symptoms.......\")\n",
        "user_symptoms = [s.strip() for s in symptoms.split(',')]\n",
        "# Remove any extra characters, if any\n",
        "user_symptoms = [symptom.strip(\"[]' \") for symptom in user_symptoms]\n",
        "predicted_disease = get_predicted_value(user_symptoms)\n",
        "\n",
        "desc, pre, med, die, wrkout = helper(predicted_disease)\n",
        "\n",
        "print(\"=================predicted disease============\")\n",
        "print(predicted_disease)\n",
        "print(\"=================description==================\")\n",
        "print(desc)\n",
        "print(\"=================precautions==================\")\n",
        "i = 1\n",
        "for p_i in pre[0]:\n",
        "    print(i, \": \", p_i)\n",
        "    i += 1\n",
        "\n",
        "print(\"=================medications==================\")\n",
        "for m_i in med:\n",
        "    print(i, \": \", m_i)\n",
        "    i += 1\n",
        "\n",
        "print(\"=================workout==================\")\n",
        "for w_i in wrkout:\n",
        "    print(i, \": \", w_i)\n",
        "    i += 1\n",
        "\n",
        "print(\"=================diets==================\")\n",
        "for d_i in die:\n",
        "    print(i, \": \", d_i)\n",
        "    i += 1"
      ],
      "metadata": {
        "id": "WbJ7815IfVGP"
      },
      "execution_count": null,
      "outputs": []
    },
    {
      "cell_type": "code",
      "source": [
        "\n",
        "import sklearn\n",
        "print(sklearn.__version__)"
      ],
      "metadata": {
        "id": "S0GmZZmIRUxC"
      },
      "execution_count": null,
      "outputs": []
    }
  ]
}