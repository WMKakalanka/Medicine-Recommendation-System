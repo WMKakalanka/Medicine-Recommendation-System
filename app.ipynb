{
  "nbformat": 4,
  "nbformat_minor": 0,
  "metadata": {
    "colab": {
      "private_outputs": true,
      "provenance": [],
      "authorship_tag": "ABX9TyMjN/wk/hvTetTYXQpkJ6FB",
      "include_colab_link": true
    },
    "kernelspec": {
      "name": "python3",
      "display_name": "Python 3"
    },
    "language_info": {
      "name": "python"
    }
  },
  "cells": [
    {
      "cell_type": "markdown",
      "metadata": {
        "id": "view-in-github",
        "colab_type": "text"
      },
      "source": [
        "<a href=\"https://colab.research.google.com/github/rashini001/ML_cwproject/blob/main/app.ipynb\" target=\"_parent\"><img src=\"https://colab.research.google.com/assets/colab-badge.svg\" alt=\"Open In Colab\"/></a>"
      ]
    },
    {
      "cell_type": "code",
      "execution_count": null,
      "metadata": {
        "id": "LQszlNWoxOHy"
      },
      "outputs": [],
      "source": [
        "from flask import Flask, request, render_template, jsonify  # Import jsonify\n",
        "import numpy as np\n",
        "import pandas as pd\n",
        "import pickle"
      ]
    },
    {
      "cell_type": "code",
      "source": [
        "# flask app\n",
        "app = Flask(__name__)"
      ],
      "metadata": {
        "id": "d_niKcSE4lqS"
      },
      "execution_count": null,
      "outputs": []
    },
    {
      "cell_type": "code",
      "source": [
        "# load databasedataset===================================\n",
        "sym_des = pd.read_csv(\"https://raw.githubusercontent.com/rashini001/ML_cwproject/main/symtoms_df.csv\")\n",
        "precautions = pd.read_csv(\"https://raw.githubusercontent.com/rashini001/ML_cwproject/main/precautions_df.csv\")\n",
        "workout = pd.read_csv(\"https://raw.githubusercontent.com/rashini001/ML_cwproject/main/workout_df.csv\")\n",
        "description = pd.read_csv(\"https://raw.githubusercontent.com/rashini001/ML_cwproject/main/description.csv\")\n",
        "medications = pd.read_csv('https://raw.githubusercontent.com/rashini001/ML_cwproject/main/medications.csv')\n",
        "diets = pd.read_csv(\"https://raw.githubusercontent.com/rashini001/ML_cwproject/main/diets.csv\")"
      ],
      "metadata": {
        "id": "cApDn75R4pKK"
      },
      "execution_count": null,
      "outputs": []
    }
  ]
}